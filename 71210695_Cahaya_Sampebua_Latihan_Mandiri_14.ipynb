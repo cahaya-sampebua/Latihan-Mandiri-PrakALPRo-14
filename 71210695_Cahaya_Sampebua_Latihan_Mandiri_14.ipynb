{
  "nbformat": 4,
  "nbformat_minor": 0,
  "metadata": {
    "colab": {
      "provenance": []
    },
    "kernelspec": {
      "name": "python3",
      "display_name": "Python 3"
    },
    "language_info": {
      "name": "python"
    }
  },
  "cells": [
    {
      "cell_type": "code",
      "execution_count": 1,
      "metadata": {
        "colab": {
          "base_uri": "https://localhost:8080/"
        },
        "id": "WcEzgjA7Brby",
        "outputId": "fd81eaf0-2fb9-4ecf-919a-cb522ca0cc4c"
      },
      "outputs": [
        {
          "output_type": "stream",
          "name": "stdout",
          "text": [
            "1945-08-17 00:00:00 selisih 28774 hari\n",
            "1785-11-11 00:00:00 selisih 87126 hari\n",
            "1783-06-08 00:00:00 selisih 88013 hari\n",
            "1889-05-02 00:00:00 selisih 49334 hari\n"
          ]
        }
      ],
      "source": [
        "#Soal 1\n",
        "\n",
        "from datetime import date\n",
        "import re\n",
        "\n",
        "def selisihHari(data):\n",
        "    re_data = re.findall(\"\\d{4}-\\d{2}-\\d{2}\",data)\n",
        "    today = date.today()\n",
        "    for i in re_data:\n",
        "        re_i = re.split(\"-\",i)\n",
        "        year = int(re_i[0])\n",
        "        month = int(re_i[1])\n",
        "        day = int(re_i[2])\n",
        "\n",
        "        past = date(year,month,day)\n",
        "\n",
        "        hasil = str(today - past)\n",
        "        hasil = hasil.split(\" \")\n",
        "\n",
        "        print(i,\"00:00:00 selisih\",hasil[0],\"hari\")\n",
        "\n",
        "\n",
        "\n",
        "data = \"Pada tanggal 1945-08-17 Indonesia merdeka. Indonesia memiliki beberapa pahlawan\\\n",
        "nasional, seperti Pangeran Diponegoro (TL: 1785-11-11), Pattimura (TL: 1783-06-08) dan Ki\\\n",
        "Hajar Dewantara (1889-05-02).\"\n",
        "\n",
        "selisihHari(data)"
      ]
    },
    {
      "cell_type": "code",
      "source": [
        "#Soal 3\n",
        "\n",
        "import re\n",
        "import string\n",
        "import random\n",
        "\n",
        "def randomPassword(n):\n",
        "    list_choice = list(string.ascii_letters + string.digits)\n",
        "    password = \"\"\n",
        "    for i in range(n):\n",
        "        password += str(random.choice(list_choice))\n",
        "\n",
        "    return password\n",
        "\n",
        "def bikinPassword(data):\n",
        "    list_email = list()\n",
        "    list_uname = list()\n",
        "    for line in data:\n",
        "        re_email = re.findall(\"\\w+@\\w+\\.\\w+[\\.\\w+?]+\",line)\n",
        "        re_uname = re.findall(\"(\\w+)@\",line)\n",
        "        if re_email:\n",
        "            list_email.append(re_email[0])\n",
        "        if re_uname:\n",
        "            list_uname.append(re_uname[0])\n",
        "\n",
        "    for i in range(len(list_email)):\n",
        "        print(list_email[i],\"username:\",list_uname[i]+\", password:\",randomPassword(8))\n",
        "\n",
        "data = open(\"email.txt\",\"r\")\n",
        "\n",
        "bikinPassword(data)"
      ],
      "metadata": {
        "colab": {
          "base_uri": "https://localhost:8080/"
        },
        "id": "_X2gkN-gDVUW",
        "outputId": "562847b7-efec-4cc4-ff37-da449b0366f2"
      },
      "execution_count": 2,
      "outputs": [
        {
          "output_type": "stream",
          "name": "stdout",
          "text": [
            "anton@mail.com username: anton, password: A955k1ue\n",
            "budi@gmail.co.id username: budi, password: cpXFhb28\n",
            "slamet@getnada.com username: slamet, password: gkK4TzjA\n",
            "matahari@tokopedia.com username: matahari, password: QOoquN8k\n"
          ]
        }
      ]
    }
  ]
}